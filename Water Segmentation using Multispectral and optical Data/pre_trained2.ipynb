{
  "cells": [
    {
      "cell_type": "code",
      "execution_count": 3,
      "metadata": {
        "colab": {
          "base_uri": "https://localhost:8080/"
        },
        "id": "sUK74f6Jyh0X",
        "outputId": "2d0cea3c-d2fe-4bdf-d29f-b7b2944d5bae"
      },
      "outputs": [],
      "source": [
        "# !pip install -q git+https://github.com/keras-team/keras-cv.git --upgrade"
      ]
    },
    {
      "cell_type": "code",
      "execution_count": 4,
      "metadata": {
        "id": "mDkzQ-PoyeeK"
      },
      "outputs": [],
      "source": [
        "import tensorflow as tf\n",
        "import tifffile as tiff\n",
        "import matplotlib.pyplot as plt\n",
        "import os\n",
        "import numpy as np\n",
        "import pandas as pd\n",
        "import random\n",
        "import keras_cv\n",
        "\n",
        "from tensorflow.keras.metrics import MeanIoU\n",
        "from sklearn.model_selection import train_test_split\n",
        "# import segmentation_models as sm\n",
        "from sklearn.preprocessing import MinMaxScaler\n",
        "from tensorflow.keras.losses import BinaryCrossentropy\n",
        "# from U_net import multi_unet_model\n",
        "from PIL import Image\n",
        "# from transformers import MobileViTFeatureExtractor, MobileViTForSemanticSegmentation\n",
        "import requests\n"
      ]
    },
    {
      "cell_type": "code",
      "execution_count": 5,
      "metadata": {
        "colab": {
          "base_uri": "https://localhost:8080/"
        },
        "id": "jZLRopjdyzzT",
        "outputId": "fa62fadd-3dd1-4d4f-b834-c7a159d17d80"
      },
      "outputs": [],
      "source": [
        "  # from google.colab import drive\n",
        "  # drive.mount('/content/drive')"
      ]
    },
    {
      "cell_type": "code",
      "execution_count": 6,
      "metadata": {
        "colab": {
          "base_uri": "https://localhost:8080/",
          "height": 36
        },
        "id": "phYyT3AEyeeL",
        "outputId": "d76c4b5e-a3fd-45c2-c43b-e6a43e4bc0a6"
      },
      "outputs": [
        {
          "data": {
            "text/plain": [
              "'d:\\\\Cellula Tech CV intern\\\\Week 3 (Satellite Data & Segmentation)\\\\data\\\\images'"
            ]
          },
          "execution_count": 6,
          "metadata": {},
          "output_type": "execute_result"
        }
      ],
      "source": [
        "DATA_PATH = os.path.join(os.getcwd(), 'data')\n",
        "# DATA_PATH = \"/content/drive/MyDrive/data\"\n",
        "IMG_DIR_PATH = os.path.join(DATA_PATH, 'images')\n",
        "LABELS_DIR_PATH = os.path.join(DATA_PATH, 'labels')\n",
        "IMG_DIR_PATH"
      ]
    },
    {
      "cell_type": "code",
      "execution_count": 7,
      "metadata": {
        "colab": {
          "base_uri": "https://localhost:8080/"
        },
        "id": "OJBve8H8yeeM",
        "outputId": "ff28dcd2-45ab-48ee-a99f-bf8fef805189"
      },
      "outputs": [
        {
          "data": {
            "text/plain": [
              "['d:\\\\Cellula Tech CV intern\\\\Week 3 (Satellite Data & Segmentation)\\\\data\\\\images\\\\0.tif',\n",
              " 'd:\\\\Cellula Tech CV intern\\\\Week 3 (Satellite Data & Segmentation)\\\\data\\\\images\\\\1.tif',\n",
              " 'd:\\\\Cellula Tech CV intern\\\\Week 3 (Satellite Data & Segmentation)\\\\data\\\\images\\\\10.tif',\n",
              " 'd:\\\\Cellula Tech CV intern\\\\Week 3 (Satellite Data & Segmentation)\\\\data\\\\images\\\\100.tif',\n",
              " 'd:\\\\Cellula Tech CV intern\\\\Week 3 (Satellite Data & Segmentation)\\\\data\\\\images\\\\101.tif',\n",
              " 'd:\\\\Cellula Tech CV intern\\\\Week 3 (Satellite Data & Segmentation)\\\\data\\\\images\\\\102.tif',\n",
              " 'd:\\\\Cellula Tech CV intern\\\\Week 3 (Satellite Data & Segmentation)\\\\data\\\\images\\\\103.tif',\n",
              " 'd:\\\\Cellula Tech CV intern\\\\Week 3 (Satellite Data & Segmentation)\\\\data\\\\images\\\\104.tif',\n",
              " 'd:\\\\Cellula Tech CV intern\\\\Week 3 (Satellite Data & Segmentation)\\\\data\\\\images\\\\105.tif',\n",
              " 'd:\\\\Cellula Tech CV intern\\\\Week 3 (Satellite Data & Segmentation)\\\\data\\\\images\\\\106.tif',\n",
              " 'd:\\\\Cellula Tech CV intern\\\\Week 3 (Satellite Data & Segmentation)\\\\data\\\\images\\\\107.tif',\n",
              " 'd:\\\\Cellula Tech CV intern\\\\Week 3 (Satellite Data & Segmentation)\\\\data\\\\images\\\\108.tif',\n",
              " 'd:\\\\Cellula Tech CV intern\\\\Week 3 (Satellite Data & Segmentation)\\\\data\\\\images\\\\109.tif',\n",
              " 'd:\\\\Cellula Tech CV intern\\\\Week 3 (Satellite Data & Segmentation)\\\\data\\\\images\\\\11.tif',\n",
              " 'd:\\\\Cellula Tech CV intern\\\\Week 3 (Satellite Data & Segmentation)\\\\data\\\\images\\\\110.tif',\n",
              " 'd:\\\\Cellula Tech CV intern\\\\Week 3 (Satellite Data & Segmentation)\\\\data\\\\images\\\\111.tif',\n",
              " 'd:\\\\Cellula Tech CV intern\\\\Week 3 (Satellite Data & Segmentation)\\\\data\\\\images\\\\112.tif',\n",
              " 'd:\\\\Cellula Tech CV intern\\\\Week 3 (Satellite Data & Segmentation)\\\\data\\\\images\\\\113.tif',\n",
              " 'd:\\\\Cellula Tech CV intern\\\\Week 3 (Satellite Data & Segmentation)\\\\data\\\\images\\\\114.tif',\n",
              " 'd:\\\\Cellula Tech CV intern\\\\Week 3 (Satellite Data & Segmentation)\\\\data\\\\images\\\\115.tif',\n",
              " 'd:\\\\Cellula Tech CV intern\\\\Week 3 (Satellite Data & Segmentation)\\\\data\\\\images\\\\116.tif',\n",
              " 'd:\\\\Cellula Tech CV intern\\\\Week 3 (Satellite Data & Segmentation)\\\\data\\\\images\\\\117.tif',\n",
              " 'd:\\\\Cellula Tech CV intern\\\\Week 3 (Satellite Data & Segmentation)\\\\data\\\\images\\\\118.tif',\n",
              " 'd:\\\\Cellula Tech CV intern\\\\Week 3 (Satellite Data & Segmentation)\\\\data\\\\images\\\\119.tif',\n",
              " 'd:\\\\Cellula Tech CV intern\\\\Week 3 (Satellite Data & Segmentation)\\\\data\\\\images\\\\12.tif',\n",
              " 'd:\\\\Cellula Tech CV intern\\\\Week 3 (Satellite Data & Segmentation)\\\\data\\\\images\\\\120.tif',\n",
              " 'd:\\\\Cellula Tech CV intern\\\\Week 3 (Satellite Data & Segmentation)\\\\data\\\\images\\\\121.tif',\n",
              " 'd:\\\\Cellula Tech CV intern\\\\Week 3 (Satellite Data & Segmentation)\\\\data\\\\images\\\\122.tif',\n",
              " 'd:\\\\Cellula Tech CV intern\\\\Week 3 (Satellite Data & Segmentation)\\\\data\\\\images\\\\123.tif',\n",
              " 'd:\\\\Cellula Tech CV intern\\\\Week 3 (Satellite Data & Segmentation)\\\\data\\\\images\\\\124.tif',\n",
              " 'd:\\\\Cellula Tech CV intern\\\\Week 3 (Satellite Data & Segmentation)\\\\data\\\\images\\\\125.tif',\n",
              " 'd:\\\\Cellula Tech CV intern\\\\Week 3 (Satellite Data & Segmentation)\\\\data\\\\images\\\\126.tif',\n",
              " 'd:\\\\Cellula Tech CV intern\\\\Week 3 (Satellite Data & Segmentation)\\\\data\\\\images\\\\127.tif',\n",
              " 'd:\\\\Cellula Tech CV intern\\\\Week 3 (Satellite Data & Segmentation)\\\\data\\\\images\\\\128.tif',\n",
              " 'd:\\\\Cellula Tech CV intern\\\\Week 3 (Satellite Data & Segmentation)\\\\data\\\\images\\\\129.tif',\n",
              " 'd:\\\\Cellula Tech CV intern\\\\Week 3 (Satellite Data & Segmentation)\\\\data\\\\images\\\\13.tif',\n",
              " 'd:\\\\Cellula Tech CV intern\\\\Week 3 (Satellite Data & Segmentation)\\\\data\\\\images\\\\130.tif',\n",
              " 'd:\\\\Cellula Tech CV intern\\\\Week 3 (Satellite Data & Segmentation)\\\\data\\\\images\\\\131.tif',\n",
              " 'd:\\\\Cellula Tech CV intern\\\\Week 3 (Satellite Data & Segmentation)\\\\data\\\\images\\\\132.tif',\n",
              " 'd:\\\\Cellula Tech CV intern\\\\Week 3 (Satellite Data & Segmentation)\\\\data\\\\images\\\\133.tif',\n",
              " 'd:\\\\Cellula Tech CV intern\\\\Week 3 (Satellite Data & Segmentation)\\\\data\\\\images\\\\134.tif',\n",
              " 'd:\\\\Cellula Tech CV intern\\\\Week 3 (Satellite Data & Segmentation)\\\\data\\\\images\\\\135.tif',\n",
              " 'd:\\\\Cellula Tech CV intern\\\\Week 3 (Satellite Data & Segmentation)\\\\data\\\\images\\\\136.tif',\n",
              " 'd:\\\\Cellula Tech CV intern\\\\Week 3 (Satellite Data & Segmentation)\\\\data\\\\images\\\\137.tif',\n",
              " 'd:\\\\Cellula Tech CV intern\\\\Week 3 (Satellite Data & Segmentation)\\\\data\\\\images\\\\138.tif',\n",
              " 'd:\\\\Cellula Tech CV intern\\\\Week 3 (Satellite Data & Segmentation)\\\\data\\\\images\\\\139.tif',\n",
              " 'd:\\\\Cellula Tech CV intern\\\\Week 3 (Satellite Data & Segmentation)\\\\data\\\\images\\\\14.tif',\n",
              " 'd:\\\\Cellula Tech CV intern\\\\Week 3 (Satellite Data & Segmentation)\\\\data\\\\images\\\\140.tif',\n",
              " 'd:\\\\Cellula Tech CV intern\\\\Week 3 (Satellite Data & Segmentation)\\\\data\\\\images\\\\141.tif',\n",
              " 'd:\\\\Cellula Tech CV intern\\\\Week 3 (Satellite Data & Segmentation)\\\\data\\\\images\\\\142.tif',\n",
              " 'd:\\\\Cellula Tech CV intern\\\\Week 3 (Satellite Data & Segmentation)\\\\data\\\\images\\\\143.tif',\n",
              " 'd:\\\\Cellula Tech CV intern\\\\Week 3 (Satellite Data & Segmentation)\\\\data\\\\images\\\\144.tif',\n",
              " 'd:\\\\Cellula Tech CV intern\\\\Week 3 (Satellite Data & Segmentation)\\\\data\\\\images\\\\145.tif',\n",
              " 'd:\\\\Cellula Tech CV intern\\\\Week 3 (Satellite Data & Segmentation)\\\\data\\\\images\\\\146.tif',\n",
              " 'd:\\\\Cellula Tech CV intern\\\\Week 3 (Satellite Data & Segmentation)\\\\data\\\\images\\\\147.tif',\n",
              " 'd:\\\\Cellula Tech CV intern\\\\Week 3 (Satellite Data & Segmentation)\\\\data\\\\images\\\\148.tif',\n",
              " 'd:\\\\Cellula Tech CV intern\\\\Week 3 (Satellite Data & Segmentation)\\\\data\\\\images\\\\149.tif',\n",
              " 'd:\\\\Cellula Tech CV intern\\\\Week 3 (Satellite Data & Segmentation)\\\\data\\\\images\\\\15.tif',\n",
              " 'd:\\\\Cellula Tech CV intern\\\\Week 3 (Satellite Data & Segmentation)\\\\data\\\\images\\\\150.tif',\n",
              " 'd:\\\\Cellula Tech CV intern\\\\Week 3 (Satellite Data & Segmentation)\\\\data\\\\images\\\\151.tif',\n",
              " 'd:\\\\Cellula Tech CV intern\\\\Week 3 (Satellite Data & Segmentation)\\\\data\\\\images\\\\152.tif',\n",
              " 'd:\\\\Cellula Tech CV intern\\\\Week 3 (Satellite Data & Segmentation)\\\\data\\\\images\\\\153.tif',\n",
              " 'd:\\\\Cellula Tech CV intern\\\\Week 3 (Satellite Data & Segmentation)\\\\data\\\\images\\\\154.tif',\n",
              " 'd:\\\\Cellula Tech CV intern\\\\Week 3 (Satellite Data & Segmentation)\\\\data\\\\images\\\\155.tif',\n",
              " 'd:\\\\Cellula Tech CV intern\\\\Week 3 (Satellite Data & Segmentation)\\\\data\\\\images\\\\156.tif',\n",
              " 'd:\\\\Cellula Tech CV intern\\\\Week 3 (Satellite Data & Segmentation)\\\\data\\\\images\\\\157.tif',\n",
              " 'd:\\\\Cellula Tech CV intern\\\\Week 3 (Satellite Data & Segmentation)\\\\data\\\\images\\\\158.tif',\n",
              " 'd:\\\\Cellula Tech CV intern\\\\Week 3 (Satellite Data & Segmentation)\\\\data\\\\images\\\\159.tif',\n",
              " 'd:\\\\Cellula Tech CV intern\\\\Week 3 (Satellite Data & Segmentation)\\\\data\\\\images\\\\16.tif',\n",
              " 'd:\\\\Cellula Tech CV intern\\\\Week 3 (Satellite Data & Segmentation)\\\\data\\\\images\\\\160.tif',\n",
              " 'd:\\\\Cellula Tech CV intern\\\\Week 3 (Satellite Data & Segmentation)\\\\data\\\\images\\\\161.tif',\n",
              " 'd:\\\\Cellula Tech CV intern\\\\Week 3 (Satellite Data & Segmentation)\\\\data\\\\images\\\\162.tif',\n",
              " 'd:\\\\Cellula Tech CV intern\\\\Week 3 (Satellite Data & Segmentation)\\\\data\\\\images\\\\163.tif',\n",
              " 'd:\\\\Cellula Tech CV intern\\\\Week 3 (Satellite Data & Segmentation)\\\\data\\\\images\\\\164.tif',\n",
              " 'd:\\\\Cellula Tech CV intern\\\\Week 3 (Satellite Data & Segmentation)\\\\data\\\\images\\\\165.tif',\n",
              " 'd:\\\\Cellula Tech CV intern\\\\Week 3 (Satellite Data & Segmentation)\\\\data\\\\images\\\\166.tif',\n",
              " 'd:\\\\Cellula Tech CV intern\\\\Week 3 (Satellite Data & Segmentation)\\\\data\\\\images\\\\167.tif',\n",
              " 'd:\\\\Cellula Tech CV intern\\\\Week 3 (Satellite Data & Segmentation)\\\\data\\\\images\\\\168.tif',\n",
              " 'd:\\\\Cellula Tech CV intern\\\\Week 3 (Satellite Data & Segmentation)\\\\data\\\\images\\\\169.tif',\n",
              " 'd:\\\\Cellula Tech CV intern\\\\Week 3 (Satellite Data & Segmentation)\\\\data\\\\images\\\\17.tif',\n",
              " 'd:\\\\Cellula Tech CV intern\\\\Week 3 (Satellite Data & Segmentation)\\\\data\\\\images\\\\170.tif',\n",
              " 'd:\\\\Cellula Tech CV intern\\\\Week 3 (Satellite Data & Segmentation)\\\\data\\\\images\\\\171.tif',\n",
              " 'd:\\\\Cellula Tech CV intern\\\\Week 3 (Satellite Data & Segmentation)\\\\data\\\\images\\\\172.tif',\n",
              " 'd:\\\\Cellula Tech CV intern\\\\Week 3 (Satellite Data & Segmentation)\\\\data\\\\images\\\\173.tif',\n",
              " 'd:\\\\Cellula Tech CV intern\\\\Week 3 (Satellite Data & Segmentation)\\\\data\\\\images\\\\174.tif',\n",
              " 'd:\\\\Cellula Tech CV intern\\\\Week 3 (Satellite Data & Segmentation)\\\\data\\\\images\\\\175.tif',\n",
              " 'd:\\\\Cellula Tech CV intern\\\\Week 3 (Satellite Data & Segmentation)\\\\data\\\\images\\\\176.tif',\n",
              " 'd:\\\\Cellula Tech CV intern\\\\Week 3 (Satellite Data & Segmentation)\\\\data\\\\images\\\\177.tif',\n",
              " 'd:\\\\Cellula Tech CV intern\\\\Week 3 (Satellite Data & Segmentation)\\\\data\\\\images\\\\178.tif',\n",
              " 'd:\\\\Cellula Tech CV intern\\\\Week 3 (Satellite Data & Segmentation)\\\\data\\\\images\\\\179.tif',\n",
              " 'd:\\\\Cellula Tech CV intern\\\\Week 3 (Satellite Data & Segmentation)\\\\data\\\\images\\\\18.tif',\n",
              " 'd:\\\\Cellula Tech CV intern\\\\Week 3 (Satellite Data & Segmentation)\\\\data\\\\images\\\\180.tif',\n",
              " 'd:\\\\Cellula Tech CV intern\\\\Week 3 (Satellite Data & Segmentation)\\\\data\\\\images\\\\181.tif',\n",
              " 'd:\\\\Cellula Tech CV intern\\\\Week 3 (Satellite Data & Segmentation)\\\\data\\\\images\\\\182.tif',\n",
              " 'd:\\\\Cellula Tech CV intern\\\\Week 3 (Satellite Data & Segmentation)\\\\data\\\\images\\\\183.tif',\n",
              " 'd:\\\\Cellula Tech CV intern\\\\Week 3 (Satellite Data & Segmentation)\\\\data\\\\images\\\\184.tif',\n",
              " 'd:\\\\Cellula Tech CV intern\\\\Week 3 (Satellite Data & Segmentation)\\\\data\\\\images\\\\185.tif',\n",
              " 'd:\\\\Cellula Tech CV intern\\\\Week 3 (Satellite Data & Segmentation)\\\\data\\\\images\\\\186.tif',\n",
              " 'd:\\\\Cellula Tech CV intern\\\\Week 3 (Satellite Data & Segmentation)\\\\data\\\\images\\\\187.tif',\n",
              " 'd:\\\\Cellula Tech CV intern\\\\Week 3 (Satellite Data & Segmentation)\\\\data\\\\images\\\\188.tif',\n",
              " 'd:\\\\Cellula Tech CV intern\\\\Week 3 (Satellite Data & Segmentation)\\\\data\\\\images\\\\189.tif',\n",
              " 'd:\\\\Cellula Tech CV intern\\\\Week 3 (Satellite Data & Segmentation)\\\\data\\\\images\\\\19.tif',\n",
              " 'd:\\\\Cellula Tech CV intern\\\\Week 3 (Satellite Data & Segmentation)\\\\data\\\\images\\\\190.tif',\n",
              " 'd:\\\\Cellula Tech CV intern\\\\Week 3 (Satellite Data & Segmentation)\\\\data\\\\images\\\\191.tif',\n",
              " 'd:\\\\Cellula Tech CV intern\\\\Week 3 (Satellite Data & Segmentation)\\\\data\\\\images\\\\192.tif',\n",
              " 'd:\\\\Cellula Tech CV intern\\\\Week 3 (Satellite Data & Segmentation)\\\\data\\\\images\\\\193.tif',\n",
              " 'd:\\\\Cellula Tech CV intern\\\\Week 3 (Satellite Data & Segmentation)\\\\data\\\\images\\\\194.tif',\n",
              " 'd:\\\\Cellula Tech CV intern\\\\Week 3 (Satellite Data & Segmentation)\\\\data\\\\images\\\\195.tif',\n",
              " 'd:\\\\Cellula Tech CV intern\\\\Week 3 (Satellite Data & Segmentation)\\\\data\\\\images\\\\196.tif',\n",
              " 'd:\\\\Cellula Tech CV intern\\\\Week 3 (Satellite Data & Segmentation)\\\\data\\\\images\\\\197.tif',\n",
              " 'd:\\\\Cellula Tech CV intern\\\\Week 3 (Satellite Data & Segmentation)\\\\data\\\\images\\\\198.tif',\n",
              " 'd:\\\\Cellula Tech CV intern\\\\Week 3 (Satellite Data & Segmentation)\\\\data\\\\images\\\\199.tif',\n",
              " 'd:\\\\Cellula Tech CV intern\\\\Week 3 (Satellite Data & Segmentation)\\\\data\\\\images\\\\2.tif',\n",
              " 'd:\\\\Cellula Tech CV intern\\\\Week 3 (Satellite Data & Segmentation)\\\\data\\\\images\\\\20.tif',\n",
              " 'd:\\\\Cellula Tech CV intern\\\\Week 3 (Satellite Data & Segmentation)\\\\data\\\\images\\\\200.tif',\n",
              " 'd:\\\\Cellula Tech CV intern\\\\Week 3 (Satellite Data & Segmentation)\\\\data\\\\images\\\\201.tif',\n",
              " 'd:\\\\Cellula Tech CV intern\\\\Week 3 (Satellite Data & Segmentation)\\\\data\\\\images\\\\202.tif',\n",
              " 'd:\\\\Cellula Tech CV intern\\\\Week 3 (Satellite Data & Segmentation)\\\\data\\\\images\\\\203.tif',\n",
              " 'd:\\\\Cellula Tech CV intern\\\\Week 3 (Satellite Data & Segmentation)\\\\data\\\\images\\\\204.tif',\n",
              " 'd:\\\\Cellula Tech CV intern\\\\Week 3 (Satellite Data & Segmentation)\\\\data\\\\images\\\\205.tif',\n",
              " 'd:\\\\Cellula Tech CV intern\\\\Week 3 (Satellite Data & Segmentation)\\\\data\\\\images\\\\206.tif',\n",
              " 'd:\\\\Cellula Tech CV intern\\\\Week 3 (Satellite Data & Segmentation)\\\\data\\\\images\\\\207.tif',\n",
              " 'd:\\\\Cellula Tech CV intern\\\\Week 3 (Satellite Data & Segmentation)\\\\data\\\\images\\\\208.tif',\n",
              " 'd:\\\\Cellula Tech CV intern\\\\Week 3 (Satellite Data & Segmentation)\\\\data\\\\images\\\\209.tif',\n",
              " 'd:\\\\Cellula Tech CV intern\\\\Week 3 (Satellite Data & Segmentation)\\\\data\\\\images\\\\21.tif',\n",
              " 'd:\\\\Cellula Tech CV intern\\\\Week 3 (Satellite Data & Segmentation)\\\\data\\\\images\\\\210.tif',\n",
              " 'd:\\\\Cellula Tech CV intern\\\\Week 3 (Satellite Data & Segmentation)\\\\data\\\\images\\\\211.tif',\n",
              " 'd:\\\\Cellula Tech CV intern\\\\Week 3 (Satellite Data & Segmentation)\\\\data\\\\images\\\\212.tif',\n",
              " 'd:\\\\Cellula Tech CV intern\\\\Week 3 (Satellite Data & Segmentation)\\\\data\\\\images\\\\213.tif',\n",
              " 'd:\\\\Cellula Tech CV intern\\\\Week 3 (Satellite Data & Segmentation)\\\\data\\\\images\\\\214.tif',\n",
              " 'd:\\\\Cellula Tech CV intern\\\\Week 3 (Satellite Data & Segmentation)\\\\data\\\\images\\\\215.tif',\n",
              " 'd:\\\\Cellula Tech CV intern\\\\Week 3 (Satellite Data & Segmentation)\\\\data\\\\images\\\\216.tif',\n",
              " 'd:\\\\Cellula Tech CV intern\\\\Week 3 (Satellite Data & Segmentation)\\\\data\\\\images\\\\217.tif',\n",
              " 'd:\\\\Cellula Tech CV intern\\\\Week 3 (Satellite Data & Segmentation)\\\\data\\\\images\\\\218.tif',\n",
              " 'd:\\\\Cellula Tech CV intern\\\\Week 3 (Satellite Data & Segmentation)\\\\data\\\\images\\\\219.tif',\n",
              " 'd:\\\\Cellula Tech CV intern\\\\Week 3 (Satellite Data & Segmentation)\\\\data\\\\images\\\\22.tif',\n",
              " 'd:\\\\Cellula Tech CV intern\\\\Week 3 (Satellite Data & Segmentation)\\\\data\\\\images\\\\220.tif',\n",
              " 'd:\\\\Cellula Tech CV intern\\\\Week 3 (Satellite Data & Segmentation)\\\\data\\\\images\\\\221.tif',\n",
              " 'd:\\\\Cellula Tech CV intern\\\\Week 3 (Satellite Data & Segmentation)\\\\data\\\\images\\\\222.tif',\n",
              " 'd:\\\\Cellula Tech CV intern\\\\Week 3 (Satellite Data & Segmentation)\\\\data\\\\images\\\\223.tif',\n",
              " 'd:\\\\Cellula Tech CV intern\\\\Week 3 (Satellite Data & Segmentation)\\\\data\\\\images\\\\224.tif',\n",
              " 'd:\\\\Cellula Tech CV intern\\\\Week 3 (Satellite Data & Segmentation)\\\\data\\\\images\\\\225.tif',\n",
              " 'd:\\\\Cellula Tech CV intern\\\\Week 3 (Satellite Data & Segmentation)\\\\data\\\\images\\\\226.tif',\n",
              " 'd:\\\\Cellula Tech CV intern\\\\Week 3 (Satellite Data & Segmentation)\\\\data\\\\images\\\\227.tif',\n",
              " 'd:\\\\Cellula Tech CV intern\\\\Week 3 (Satellite Data & Segmentation)\\\\data\\\\images\\\\228.tif',\n",
              " 'd:\\\\Cellula Tech CV intern\\\\Week 3 (Satellite Data & Segmentation)\\\\data\\\\images\\\\229.tif',\n",
              " 'd:\\\\Cellula Tech CV intern\\\\Week 3 (Satellite Data & Segmentation)\\\\data\\\\images\\\\23.tif',\n",
              " 'd:\\\\Cellula Tech CV intern\\\\Week 3 (Satellite Data & Segmentation)\\\\data\\\\images\\\\230.tif',\n",
              " 'd:\\\\Cellula Tech CV intern\\\\Week 3 (Satellite Data & Segmentation)\\\\data\\\\images\\\\231.tif',\n",
              " 'd:\\\\Cellula Tech CV intern\\\\Week 3 (Satellite Data & Segmentation)\\\\data\\\\images\\\\232.tif',\n",
              " 'd:\\\\Cellula Tech CV intern\\\\Week 3 (Satellite Data & Segmentation)\\\\data\\\\images\\\\233.tif',\n",
              " 'd:\\\\Cellula Tech CV intern\\\\Week 3 (Satellite Data & Segmentation)\\\\data\\\\images\\\\234.tif',\n",
              " 'd:\\\\Cellula Tech CV intern\\\\Week 3 (Satellite Data & Segmentation)\\\\data\\\\images\\\\235.tif',\n",
              " 'd:\\\\Cellula Tech CV intern\\\\Week 3 (Satellite Data & Segmentation)\\\\data\\\\images\\\\236.tif',\n",
              " 'd:\\\\Cellula Tech CV intern\\\\Week 3 (Satellite Data & Segmentation)\\\\data\\\\images\\\\237.tif',\n",
              " 'd:\\\\Cellula Tech CV intern\\\\Week 3 (Satellite Data & Segmentation)\\\\data\\\\images\\\\238.tif',\n",
              " 'd:\\\\Cellula Tech CV intern\\\\Week 3 (Satellite Data & Segmentation)\\\\data\\\\images\\\\239.tif',\n",
              " 'd:\\\\Cellula Tech CV intern\\\\Week 3 (Satellite Data & Segmentation)\\\\data\\\\images\\\\24.tif',\n",
              " 'd:\\\\Cellula Tech CV intern\\\\Week 3 (Satellite Data & Segmentation)\\\\data\\\\images\\\\240.tif',\n",
              " 'd:\\\\Cellula Tech CV intern\\\\Week 3 (Satellite Data & Segmentation)\\\\data\\\\images\\\\241.tif',\n",
              " 'd:\\\\Cellula Tech CV intern\\\\Week 3 (Satellite Data & Segmentation)\\\\data\\\\images\\\\242.tif',\n",
              " 'd:\\\\Cellula Tech CV intern\\\\Week 3 (Satellite Data & Segmentation)\\\\data\\\\images\\\\243.tif',\n",
              " 'd:\\\\Cellula Tech CV intern\\\\Week 3 (Satellite Data & Segmentation)\\\\data\\\\images\\\\244.tif',\n",
              " 'd:\\\\Cellula Tech CV intern\\\\Week 3 (Satellite Data & Segmentation)\\\\data\\\\images\\\\245.tif',\n",
              " 'd:\\\\Cellula Tech CV intern\\\\Week 3 (Satellite Data & Segmentation)\\\\data\\\\images\\\\246.tif',\n",
              " 'd:\\\\Cellula Tech CV intern\\\\Week 3 (Satellite Data & Segmentation)\\\\data\\\\images\\\\247.tif',\n",
              " 'd:\\\\Cellula Tech CV intern\\\\Week 3 (Satellite Data & Segmentation)\\\\data\\\\images\\\\248.tif',\n",
              " 'd:\\\\Cellula Tech CV intern\\\\Week 3 (Satellite Data & Segmentation)\\\\data\\\\images\\\\249.tif',\n",
              " 'd:\\\\Cellula Tech CV intern\\\\Week 3 (Satellite Data & Segmentation)\\\\data\\\\images\\\\25.tif',\n",
              " 'd:\\\\Cellula Tech CV intern\\\\Week 3 (Satellite Data & Segmentation)\\\\data\\\\images\\\\250.tif',\n",
              " 'd:\\\\Cellula Tech CV intern\\\\Week 3 (Satellite Data & Segmentation)\\\\data\\\\images\\\\251.tif',\n",
              " 'd:\\\\Cellula Tech CV intern\\\\Week 3 (Satellite Data & Segmentation)\\\\data\\\\images\\\\252.tif',\n",
              " 'd:\\\\Cellula Tech CV intern\\\\Week 3 (Satellite Data & Segmentation)\\\\data\\\\images\\\\253.tif',\n",
              " 'd:\\\\Cellula Tech CV intern\\\\Week 3 (Satellite Data & Segmentation)\\\\data\\\\images\\\\254.tif',\n",
              " 'd:\\\\Cellula Tech CV intern\\\\Week 3 (Satellite Data & Segmentation)\\\\data\\\\images\\\\255.tif',\n",
              " 'd:\\\\Cellula Tech CV intern\\\\Week 3 (Satellite Data & Segmentation)\\\\data\\\\images\\\\256.tif',\n",
              " 'd:\\\\Cellula Tech CV intern\\\\Week 3 (Satellite Data & Segmentation)\\\\data\\\\images\\\\257.tif',\n",
              " 'd:\\\\Cellula Tech CV intern\\\\Week 3 (Satellite Data & Segmentation)\\\\data\\\\images\\\\258.tif',\n",
              " 'd:\\\\Cellula Tech CV intern\\\\Week 3 (Satellite Data & Segmentation)\\\\data\\\\images\\\\259.tif',\n",
              " 'd:\\\\Cellula Tech CV intern\\\\Week 3 (Satellite Data & Segmentation)\\\\data\\\\images\\\\26.tif',\n",
              " 'd:\\\\Cellula Tech CV intern\\\\Week 3 (Satellite Data & Segmentation)\\\\data\\\\images\\\\260.tif',\n",
              " 'd:\\\\Cellula Tech CV intern\\\\Week 3 (Satellite Data & Segmentation)\\\\data\\\\images\\\\261.tif',\n",
              " 'd:\\\\Cellula Tech CV intern\\\\Week 3 (Satellite Data & Segmentation)\\\\data\\\\images\\\\262.tif',\n",
              " 'd:\\\\Cellula Tech CV intern\\\\Week 3 (Satellite Data & Segmentation)\\\\data\\\\images\\\\263.tif',\n",
              " 'd:\\\\Cellula Tech CV intern\\\\Week 3 (Satellite Data & Segmentation)\\\\data\\\\images\\\\264.tif',\n",
              " 'd:\\\\Cellula Tech CV intern\\\\Week 3 (Satellite Data & Segmentation)\\\\data\\\\images\\\\265.tif',\n",
              " 'd:\\\\Cellula Tech CV intern\\\\Week 3 (Satellite Data & Segmentation)\\\\data\\\\images\\\\266.tif',\n",
              " 'd:\\\\Cellula Tech CV intern\\\\Week 3 (Satellite Data & Segmentation)\\\\data\\\\images\\\\267.tif',\n",
              " 'd:\\\\Cellula Tech CV intern\\\\Week 3 (Satellite Data & Segmentation)\\\\data\\\\images\\\\268.tif',\n",
              " 'd:\\\\Cellula Tech CV intern\\\\Week 3 (Satellite Data & Segmentation)\\\\data\\\\images\\\\269.tif',\n",
              " 'd:\\\\Cellula Tech CV intern\\\\Week 3 (Satellite Data & Segmentation)\\\\data\\\\images\\\\27.tif',\n",
              " 'd:\\\\Cellula Tech CV intern\\\\Week 3 (Satellite Data & Segmentation)\\\\data\\\\images\\\\270.tif',\n",
              " 'd:\\\\Cellula Tech CV intern\\\\Week 3 (Satellite Data & Segmentation)\\\\data\\\\images\\\\271.tif',\n",
              " 'd:\\\\Cellula Tech CV intern\\\\Week 3 (Satellite Data & Segmentation)\\\\data\\\\images\\\\272.tif',\n",
              " 'd:\\\\Cellula Tech CV intern\\\\Week 3 (Satellite Data & Segmentation)\\\\data\\\\images\\\\273.tif',\n",
              " 'd:\\\\Cellula Tech CV intern\\\\Week 3 (Satellite Data & Segmentation)\\\\data\\\\images\\\\274.tif',\n",
              " 'd:\\\\Cellula Tech CV intern\\\\Week 3 (Satellite Data & Segmentation)\\\\data\\\\images\\\\275.tif',\n",
              " 'd:\\\\Cellula Tech CV intern\\\\Week 3 (Satellite Data & Segmentation)\\\\data\\\\images\\\\276.tif',\n",
              " 'd:\\\\Cellula Tech CV intern\\\\Week 3 (Satellite Data & Segmentation)\\\\data\\\\images\\\\277.tif',\n",
              " 'd:\\\\Cellula Tech CV intern\\\\Week 3 (Satellite Data & Segmentation)\\\\data\\\\images\\\\278.tif',\n",
              " 'd:\\\\Cellula Tech CV intern\\\\Week 3 (Satellite Data & Segmentation)\\\\data\\\\images\\\\279.tif',\n",
              " 'd:\\\\Cellula Tech CV intern\\\\Week 3 (Satellite Data & Segmentation)\\\\data\\\\images\\\\28.tif',\n",
              " 'd:\\\\Cellula Tech CV intern\\\\Week 3 (Satellite Data & Segmentation)\\\\data\\\\images\\\\280.tif',\n",
              " 'd:\\\\Cellula Tech CV intern\\\\Week 3 (Satellite Data & Segmentation)\\\\data\\\\images\\\\281.tif',\n",
              " 'd:\\\\Cellula Tech CV intern\\\\Week 3 (Satellite Data & Segmentation)\\\\data\\\\images\\\\282.tif',\n",
              " 'd:\\\\Cellula Tech CV intern\\\\Week 3 (Satellite Data & Segmentation)\\\\data\\\\images\\\\283.tif',\n",
              " 'd:\\\\Cellula Tech CV intern\\\\Week 3 (Satellite Data & Segmentation)\\\\data\\\\images\\\\284.tif',\n",
              " 'd:\\\\Cellula Tech CV intern\\\\Week 3 (Satellite Data & Segmentation)\\\\data\\\\images\\\\285.tif',\n",
              " 'd:\\\\Cellula Tech CV intern\\\\Week 3 (Satellite Data & Segmentation)\\\\data\\\\images\\\\286.tif',\n",
              " 'd:\\\\Cellula Tech CV intern\\\\Week 3 (Satellite Data & Segmentation)\\\\data\\\\images\\\\287.tif',\n",
              " 'd:\\\\Cellula Tech CV intern\\\\Week 3 (Satellite Data & Segmentation)\\\\data\\\\images\\\\288.tif',\n",
              " 'd:\\\\Cellula Tech CV intern\\\\Week 3 (Satellite Data & Segmentation)\\\\data\\\\images\\\\289.tif',\n",
              " 'd:\\\\Cellula Tech CV intern\\\\Week 3 (Satellite Data & Segmentation)\\\\data\\\\images\\\\29.tif',\n",
              " 'd:\\\\Cellula Tech CV intern\\\\Week 3 (Satellite Data & Segmentation)\\\\data\\\\images\\\\290.tif',\n",
              " 'd:\\\\Cellula Tech CV intern\\\\Week 3 (Satellite Data & Segmentation)\\\\data\\\\images\\\\291.tif',\n",
              " 'd:\\\\Cellula Tech CV intern\\\\Week 3 (Satellite Data & Segmentation)\\\\data\\\\images\\\\292.tif',\n",
              " 'd:\\\\Cellula Tech CV intern\\\\Week 3 (Satellite Data & Segmentation)\\\\data\\\\images\\\\293.tif',\n",
              " 'd:\\\\Cellula Tech CV intern\\\\Week 3 (Satellite Data & Segmentation)\\\\data\\\\images\\\\294.tif',\n",
              " 'd:\\\\Cellula Tech CV intern\\\\Week 3 (Satellite Data & Segmentation)\\\\data\\\\images\\\\295.tif',\n",
              " 'd:\\\\Cellula Tech CV intern\\\\Week 3 (Satellite Data & Segmentation)\\\\data\\\\images\\\\296.tif',\n",
              " 'd:\\\\Cellula Tech CV intern\\\\Week 3 (Satellite Data & Segmentation)\\\\data\\\\images\\\\297.tif',\n",
              " 'd:\\\\Cellula Tech CV intern\\\\Week 3 (Satellite Data & Segmentation)\\\\data\\\\images\\\\298.tif',\n",
              " 'd:\\\\Cellula Tech CV intern\\\\Week 3 (Satellite Data & Segmentation)\\\\data\\\\images\\\\299.tif',\n",
              " 'd:\\\\Cellula Tech CV intern\\\\Week 3 (Satellite Data & Segmentation)\\\\data\\\\images\\\\3.tif',\n",
              " 'd:\\\\Cellula Tech CV intern\\\\Week 3 (Satellite Data & Segmentation)\\\\data\\\\images\\\\30.tif',\n",
              " 'd:\\\\Cellula Tech CV intern\\\\Week 3 (Satellite Data & Segmentation)\\\\data\\\\images\\\\300.tif',\n",
              " 'd:\\\\Cellula Tech CV intern\\\\Week 3 (Satellite Data & Segmentation)\\\\data\\\\images\\\\301.tif',\n",
              " 'd:\\\\Cellula Tech CV intern\\\\Week 3 (Satellite Data & Segmentation)\\\\data\\\\images\\\\302.tif',\n",
              " 'd:\\\\Cellula Tech CV intern\\\\Week 3 (Satellite Data & Segmentation)\\\\data\\\\images\\\\303.tif',\n",
              " 'd:\\\\Cellula Tech CV intern\\\\Week 3 (Satellite Data & Segmentation)\\\\data\\\\images\\\\304.tif',\n",
              " 'd:\\\\Cellula Tech CV intern\\\\Week 3 (Satellite Data & Segmentation)\\\\data\\\\images\\\\305.tif',\n",
              " 'd:\\\\Cellula Tech CV intern\\\\Week 3 (Satellite Data & Segmentation)\\\\data\\\\images\\\\31.tif',\n",
              " 'd:\\\\Cellula Tech CV intern\\\\Week 3 (Satellite Data & Segmentation)\\\\data\\\\images\\\\32.tif',\n",
              " 'd:\\\\Cellula Tech CV intern\\\\Week 3 (Satellite Data & Segmentation)\\\\data\\\\images\\\\33.tif',\n",
              " 'd:\\\\Cellula Tech CV intern\\\\Week 3 (Satellite Data & Segmentation)\\\\data\\\\images\\\\34.tif',\n",
              " 'd:\\\\Cellula Tech CV intern\\\\Week 3 (Satellite Data & Segmentation)\\\\data\\\\images\\\\35.tif',\n",
              " 'd:\\\\Cellula Tech CV intern\\\\Week 3 (Satellite Data & Segmentation)\\\\data\\\\images\\\\36.tif',\n",
              " 'd:\\\\Cellula Tech CV intern\\\\Week 3 (Satellite Data & Segmentation)\\\\data\\\\images\\\\37.tif',\n",
              " 'd:\\\\Cellula Tech CV intern\\\\Week 3 (Satellite Data & Segmentation)\\\\data\\\\images\\\\38.tif',\n",
              " 'd:\\\\Cellula Tech CV intern\\\\Week 3 (Satellite Data & Segmentation)\\\\data\\\\images\\\\39.tif',\n",
              " 'd:\\\\Cellula Tech CV intern\\\\Week 3 (Satellite Data & Segmentation)\\\\data\\\\images\\\\4.tif',\n",
              " 'd:\\\\Cellula Tech CV intern\\\\Week 3 (Satellite Data & Segmentation)\\\\data\\\\images\\\\40.tif',\n",
              " 'd:\\\\Cellula Tech CV intern\\\\Week 3 (Satellite Data & Segmentation)\\\\data\\\\images\\\\41.tif',\n",
              " 'd:\\\\Cellula Tech CV intern\\\\Week 3 (Satellite Data & Segmentation)\\\\data\\\\images\\\\42.tif',\n",
              " 'd:\\\\Cellula Tech CV intern\\\\Week 3 (Satellite Data & Segmentation)\\\\data\\\\images\\\\43.tif',\n",
              " 'd:\\\\Cellula Tech CV intern\\\\Week 3 (Satellite Data & Segmentation)\\\\data\\\\images\\\\44.tif',\n",
              " 'd:\\\\Cellula Tech CV intern\\\\Week 3 (Satellite Data & Segmentation)\\\\data\\\\images\\\\45.tif',\n",
              " 'd:\\\\Cellula Tech CV intern\\\\Week 3 (Satellite Data & Segmentation)\\\\data\\\\images\\\\46.tif',\n",
              " 'd:\\\\Cellula Tech CV intern\\\\Week 3 (Satellite Data & Segmentation)\\\\data\\\\images\\\\47.tif',\n",
              " 'd:\\\\Cellula Tech CV intern\\\\Week 3 (Satellite Data & Segmentation)\\\\data\\\\images\\\\48.tif',\n",
              " 'd:\\\\Cellula Tech CV intern\\\\Week 3 (Satellite Data & Segmentation)\\\\data\\\\images\\\\49.tif',\n",
              " 'd:\\\\Cellula Tech CV intern\\\\Week 3 (Satellite Data & Segmentation)\\\\data\\\\images\\\\5.tif',\n",
              " 'd:\\\\Cellula Tech CV intern\\\\Week 3 (Satellite Data & Segmentation)\\\\data\\\\images\\\\50.tif',\n",
              " 'd:\\\\Cellula Tech CV intern\\\\Week 3 (Satellite Data & Segmentation)\\\\data\\\\images\\\\51.tif',\n",
              " 'd:\\\\Cellula Tech CV intern\\\\Week 3 (Satellite Data & Segmentation)\\\\data\\\\images\\\\52.tif',\n",
              " 'd:\\\\Cellula Tech CV intern\\\\Week 3 (Satellite Data & Segmentation)\\\\data\\\\images\\\\53.tif',\n",
              " 'd:\\\\Cellula Tech CV intern\\\\Week 3 (Satellite Data & Segmentation)\\\\data\\\\images\\\\54.tif',\n",
              " 'd:\\\\Cellula Tech CV intern\\\\Week 3 (Satellite Data & Segmentation)\\\\data\\\\images\\\\55.tif',\n",
              " 'd:\\\\Cellula Tech CV intern\\\\Week 3 (Satellite Data & Segmentation)\\\\data\\\\images\\\\56.tif',\n",
              " 'd:\\\\Cellula Tech CV intern\\\\Week 3 (Satellite Data & Segmentation)\\\\data\\\\images\\\\57.tif',\n",
              " 'd:\\\\Cellula Tech CV intern\\\\Week 3 (Satellite Data & Segmentation)\\\\data\\\\images\\\\58.tif',\n",
              " 'd:\\\\Cellula Tech CV intern\\\\Week 3 (Satellite Data & Segmentation)\\\\data\\\\images\\\\59.tif',\n",
              " 'd:\\\\Cellula Tech CV intern\\\\Week 3 (Satellite Data & Segmentation)\\\\data\\\\images\\\\6.tif',\n",
              " 'd:\\\\Cellula Tech CV intern\\\\Week 3 (Satellite Data & Segmentation)\\\\data\\\\images\\\\60.tif',\n",
              " 'd:\\\\Cellula Tech CV intern\\\\Week 3 (Satellite Data & Segmentation)\\\\data\\\\images\\\\61.tif',\n",
              " 'd:\\\\Cellula Tech CV intern\\\\Week 3 (Satellite Data & Segmentation)\\\\data\\\\images\\\\62.tif',\n",
              " 'd:\\\\Cellula Tech CV intern\\\\Week 3 (Satellite Data & Segmentation)\\\\data\\\\images\\\\63.tif',\n",
              " 'd:\\\\Cellula Tech CV intern\\\\Week 3 (Satellite Data & Segmentation)\\\\data\\\\images\\\\64.tif',\n",
              " 'd:\\\\Cellula Tech CV intern\\\\Week 3 (Satellite Data & Segmentation)\\\\data\\\\images\\\\65.tif',\n",
              " 'd:\\\\Cellula Tech CV intern\\\\Week 3 (Satellite Data & Segmentation)\\\\data\\\\images\\\\66.tif',\n",
              " 'd:\\\\Cellula Tech CV intern\\\\Week 3 (Satellite Data & Segmentation)\\\\data\\\\images\\\\67.tif',\n",
              " 'd:\\\\Cellula Tech CV intern\\\\Week 3 (Satellite Data & Segmentation)\\\\data\\\\images\\\\68.tif',\n",
              " 'd:\\\\Cellula Tech CV intern\\\\Week 3 (Satellite Data & Segmentation)\\\\data\\\\images\\\\69.tif',\n",
              " 'd:\\\\Cellula Tech CV intern\\\\Week 3 (Satellite Data & Segmentation)\\\\data\\\\images\\\\7.tif',\n",
              " 'd:\\\\Cellula Tech CV intern\\\\Week 3 (Satellite Data & Segmentation)\\\\data\\\\images\\\\70.tif',\n",
              " 'd:\\\\Cellula Tech CV intern\\\\Week 3 (Satellite Data & Segmentation)\\\\data\\\\images\\\\71.tif',\n",
              " 'd:\\\\Cellula Tech CV intern\\\\Week 3 (Satellite Data & Segmentation)\\\\data\\\\images\\\\72.tif',\n",
              " 'd:\\\\Cellula Tech CV intern\\\\Week 3 (Satellite Data & Segmentation)\\\\data\\\\images\\\\73.tif',\n",
              " 'd:\\\\Cellula Tech CV intern\\\\Week 3 (Satellite Data & Segmentation)\\\\data\\\\images\\\\74.tif',\n",
              " 'd:\\\\Cellula Tech CV intern\\\\Week 3 (Satellite Data & Segmentation)\\\\data\\\\images\\\\75.tif',\n",
              " 'd:\\\\Cellula Tech CV intern\\\\Week 3 (Satellite Data & Segmentation)\\\\data\\\\images\\\\76.tif',\n",
              " 'd:\\\\Cellula Tech CV intern\\\\Week 3 (Satellite Data & Segmentation)\\\\data\\\\images\\\\77.tif',\n",
              " 'd:\\\\Cellula Tech CV intern\\\\Week 3 (Satellite Data & Segmentation)\\\\data\\\\images\\\\78.tif',\n",
              " 'd:\\\\Cellula Tech CV intern\\\\Week 3 (Satellite Data & Segmentation)\\\\data\\\\images\\\\79.tif',\n",
              " 'd:\\\\Cellula Tech CV intern\\\\Week 3 (Satellite Data & Segmentation)\\\\data\\\\images\\\\8.tif',\n",
              " 'd:\\\\Cellula Tech CV intern\\\\Week 3 (Satellite Data & Segmentation)\\\\data\\\\images\\\\80.tif',\n",
              " 'd:\\\\Cellula Tech CV intern\\\\Week 3 (Satellite Data & Segmentation)\\\\data\\\\images\\\\81.tif',\n",
              " 'd:\\\\Cellula Tech CV intern\\\\Week 3 (Satellite Data & Segmentation)\\\\data\\\\images\\\\82.tif',\n",
              " 'd:\\\\Cellula Tech CV intern\\\\Week 3 (Satellite Data & Segmentation)\\\\data\\\\images\\\\83.tif',\n",
              " 'd:\\\\Cellula Tech CV intern\\\\Week 3 (Satellite Data & Segmentation)\\\\data\\\\images\\\\84.tif',\n",
              " 'd:\\\\Cellula Tech CV intern\\\\Week 3 (Satellite Data & Segmentation)\\\\data\\\\images\\\\85.tif',\n",
              " 'd:\\\\Cellula Tech CV intern\\\\Week 3 (Satellite Data & Segmentation)\\\\data\\\\images\\\\86.tif',\n",
              " 'd:\\\\Cellula Tech CV intern\\\\Week 3 (Satellite Data & Segmentation)\\\\data\\\\images\\\\87.tif',\n",
              " 'd:\\\\Cellula Tech CV intern\\\\Week 3 (Satellite Data & Segmentation)\\\\data\\\\images\\\\88.tif',\n",
              " 'd:\\\\Cellula Tech CV intern\\\\Week 3 (Satellite Data & Segmentation)\\\\data\\\\images\\\\89.tif',\n",
              " 'd:\\\\Cellula Tech CV intern\\\\Week 3 (Satellite Data & Segmentation)\\\\data\\\\images\\\\9.tif',\n",
              " 'd:\\\\Cellula Tech CV intern\\\\Week 3 (Satellite Data & Segmentation)\\\\data\\\\images\\\\90.tif',\n",
              " 'd:\\\\Cellula Tech CV intern\\\\Week 3 (Satellite Data & Segmentation)\\\\data\\\\images\\\\91.tif',\n",
              " 'd:\\\\Cellula Tech CV intern\\\\Week 3 (Satellite Data & Segmentation)\\\\data\\\\images\\\\92.tif',\n",
              " 'd:\\\\Cellula Tech CV intern\\\\Week 3 (Satellite Data & Segmentation)\\\\data\\\\images\\\\93.tif',\n",
              " 'd:\\\\Cellula Tech CV intern\\\\Week 3 (Satellite Data & Segmentation)\\\\data\\\\images\\\\94.tif',\n",
              " 'd:\\\\Cellula Tech CV intern\\\\Week 3 (Satellite Data & Segmentation)\\\\data\\\\images\\\\95.tif',\n",
              " 'd:\\\\Cellula Tech CV intern\\\\Week 3 (Satellite Data & Segmentation)\\\\data\\\\images\\\\96.tif',\n",
              " 'd:\\\\Cellula Tech CV intern\\\\Week 3 (Satellite Data & Segmentation)\\\\data\\\\images\\\\97.tif',\n",
              " 'd:\\\\Cellula Tech CV intern\\\\Week 3 (Satellite Data & Segmentation)\\\\data\\\\images\\\\98.tif',\n",
              " 'd:\\\\Cellula Tech CV intern\\\\Week 3 (Satellite Data & Segmentation)\\\\data\\\\images\\\\99.tif']"
            ]
          },
          "execution_count": 7,
          "metadata": {},
          "output_type": "execute_result"
        }
      ],
      "source": [
        "img_file_paths = [ os.path.join(IMG_DIR_PATH, i) for i in os.listdir(IMG_DIR_PATH)]\n",
        "img_file_paths.sort()\n",
        "img_file_paths"
      ]
    },
    {
      "cell_type": "code",
      "execution_count": 8,
      "metadata": {
        "id": "tl-cDqhayeeM"
      },
      "outputs": [],
      "source": [
        "def normalize_image(image):\n",
        "    \"\"\"\n",
        "    Normalize image to [0, 1] range.\n",
        "    \"\"\"\n",
        "    min_val = np.min(image)\n",
        "    max_val = np.max(image)\n",
        "    normalized_image = (image - min_val) / (max_val - min_val)\n",
        "\n",
        "    return normalized_image"
      ]
    },
    {
      "cell_type": "code",
      "execution_count": 9,
      "metadata": {
        "id": "9UER9a7PyeeM"
      },
      "outputs": [],
      "source": [
        "images_arr = []\n",
        "\n",
        "for i in img_file_paths:\n",
        "    img = tiff.imread(i)\n",
        "    images_arr.append(normalize_image(img))\n",
        "\n",
        "images_arr = np.array(images_arr)"
      ]
    },
    {
      "cell_type": "code",
      "execution_count": 10,
      "metadata": {
        "colab": {
          "base_uri": "https://localhost:8080/"
        },
        "id": "GW9ZcFMXyeeM",
        "outputId": "5514ac94-4ed2-4cf4-ea19-7a70ed1298b4"
      },
      "outputs": [
        {
          "data": {
            "text/plain": [
              "['0.png',\n",
              " '1.png',\n",
              " '10.png',\n",
              " '100.png',\n",
              " '101.png',\n",
              " '102.png',\n",
              " '103.png',\n",
              " '104.png',\n",
              " '105.png',\n",
              " '106.png',\n",
              " '107.png',\n",
              " '108.png',\n",
              " '109.png',\n",
              " '11.png',\n",
              " '110.png',\n",
              " '111.png',\n",
              " '112.png',\n",
              " '113.png',\n",
              " '114.png',\n",
              " '115.png',\n",
              " '116.png',\n",
              " '117.png',\n",
              " '118.png',\n",
              " '119.png',\n",
              " '12.png',\n",
              " '120.png',\n",
              " '121.png',\n",
              " '122.png',\n",
              " '123.png',\n",
              " '124.png',\n",
              " '125.png',\n",
              " '126.png',\n",
              " '127.png',\n",
              " '128.png',\n",
              " '129.png',\n",
              " '13.png',\n",
              " '130.png',\n",
              " '131.png',\n",
              " '132.png',\n",
              " '133.png',\n",
              " '134.png',\n",
              " '135.png',\n",
              " '136.png',\n",
              " '137.png',\n",
              " '138.png',\n",
              " '139.png',\n",
              " '14.png',\n",
              " '140.png',\n",
              " '141.png',\n",
              " '142.png',\n",
              " '143.png',\n",
              " '144.png',\n",
              " '145.png',\n",
              " '146.png',\n",
              " '147.png',\n",
              " '148.png',\n",
              " '149.png',\n",
              " '15.png',\n",
              " '150.png',\n",
              " '151.png',\n",
              " '152.png',\n",
              " '153.png',\n",
              " '154.png',\n",
              " '155.png',\n",
              " '156.png',\n",
              " '157.png',\n",
              " '158.png',\n",
              " '159.png',\n",
              " '16.png',\n",
              " '160.png',\n",
              " '161.png',\n",
              " '162.png',\n",
              " '163.png',\n",
              " '164.png',\n",
              " '165.png',\n",
              " '166.png',\n",
              " '167.png',\n",
              " '168.png',\n",
              " '169.png',\n",
              " '17.png',\n",
              " '170.png',\n",
              " '171.png',\n",
              " '172.png',\n",
              " '173.png',\n",
              " '174.png',\n",
              " '175.png',\n",
              " '176.png',\n",
              " '177.png',\n",
              " '178.png',\n",
              " '179.png',\n",
              " '18.png',\n",
              " '180.png',\n",
              " '181.png',\n",
              " '182.png',\n",
              " '183.png',\n",
              " '184.png',\n",
              " '185.png',\n",
              " '186.png',\n",
              " '187.png',\n",
              " '188.png',\n",
              " '189.png',\n",
              " '19.png',\n",
              " '190.png',\n",
              " '191.png',\n",
              " '192.png',\n",
              " '193.png',\n",
              " '194.png',\n",
              " '195.png',\n",
              " '196.png',\n",
              " '197.png',\n",
              " '198.png',\n",
              " '199.png',\n",
              " '2.png',\n",
              " '20.png',\n",
              " '200.png',\n",
              " '201.png',\n",
              " '202.png',\n",
              " '203.png',\n",
              " '204.png',\n",
              " '205.png',\n",
              " '206.png',\n",
              " '207.png',\n",
              " '208.png',\n",
              " '209.png',\n",
              " '21.png',\n",
              " '210.png',\n",
              " '211.png',\n",
              " '212.png',\n",
              " '213.png',\n",
              " '214.png',\n",
              " '215.png',\n",
              " '216.png',\n",
              " '217.png',\n",
              " '218.png',\n",
              " '219.png',\n",
              " '22.png',\n",
              " '220.png',\n",
              " '221.png',\n",
              " '222.png',\n",
              " '223.png',\n",
              " '224.png',\n",
              " '225.png',\n",
              " '226.png',\n",
              " '227.png',\n",
              " '228.png',\n",
              " '229.png',\n",
              " '23.png',\n",
              " '230.png',\n",
              " '231.png',\n",
              " '232.png',\n",
              " '233.png',\n",
              " '234.png',\n",
              " '235.png',\n",
              " '236.png',\n",
              " '237.png',\n",
              " '238.png',\n",
              " '239.png',\n",
              " '24.png',\n",
              " '240.png',\n",
              " '241.png',\n",
              " '242.png',\n",
              " '243.png',\n",
              " '244.png',\n",
              " '245.png',\n",
              " '246.png',\n",
              " '247.png',\n",
              " '248.png',\n",
              " '249.png',\n",
              " '25.png',\n",
              " '250.png',\n",
              " '251.png',\n",
              " '252.png',\n",
              " '253.png',\n",
              " '254.png',\n",
              " '255.png',\n",
              " '256.png',\n",
              " '257.png',\n",
              " '258.png',\n",
              " '259.png',\n",
              " '26.png',\n",
              " '260.png',\n",
              " '261.png',\n",
              " '262.png',\n",
              " '263.png',\n",
              " '264.png',\n",
              " '265.png',\n",
              " '266.png',\n",
              " '267.png',\n",
              " '268.png',\n",
              " '269.png',\n",
              " '27.png',\n",
              " '270.png',\n",
              " '271.png',\n",
              " '272.png',\n",
              " '273.png',\n",
              " '274.png',\n",
              " '275.png',\n",
              " '276.png',\n",
              " '277.png',\n",
              " '278.png',\n",
              " '279.png',\n",
              " '28.png',\n",
              " '280.png',\n",
              " '281.png',\n",
              " '282.png',\n",
              " '283.png',\n",
              " '284.png',\n",
              " '285.png',\n",
              " '286.png',\n",
              " '287.png',\n",
              " '288.png',\n",
              " '289.png',\n",
              " '29.png',\n",
              " '290.png',\n",
              " '291.png',\n",
              " '292.png',\n",
              " '293.png',\n",
              " '294.png',\n",
              " '295.png',\n",
              " '296.png',\n",
              " '297.png',\n",
              " '298.png',\n",
              " '299.png',\n",
              " '3.png',\n",
              " '30.png',\n",
              " '300.png',\n",
              " '301.png',\n",
              " '302.png',\n",
              " '303.png',\n",
              " '304.png',\n",
              " '305.png',\n",
              " '31.png',\n",
              " '32.png',\n",
              " '33.png',\n",
              " '34.png',\n",
              " '35.png',\n",
              " '36.png',\n",
              " '37.png',\n",
              " '38.png',\n",
              " '39.png',\n",
              " '4.png',\n",
              " '40.png',\n",
              " '41.png',\n",
              " '42.png',\n",
              " '43.png',\n",
              " '44.png',\n",
              " '45.png',\n",
              " '46.png',\n",
              " '47.png',\n",
              " '48.png',\n",
              " '49.png',\n",
              " '5.png',\n",
              " '50.png',\n",
              " '51.png',\n",
              " '52.png',\n",
              " '53.png',\n",
              " '54.png',\n",
              " '55.png',\n",
              " '56.png',\n",
              " '57.png',\n",
              " '58.png',\n",
              " '59.png',\n",
              " '6.png',\n",
              " '60.png',\n",
              " '61.png',\n",
              " '62.png',\n",
              " '63.png',\n",
              " '64.png',\n",
              " '65.png',\n",
              " '66.png',\n",
              " '67.png',\n",
              " '68.png',\n",
              " '69.png',\n",
              " '7.png',\n",
              " '70.png',\n",
              " '71.png',\n",
              " '72.png',\n",
              " '73.png',\n",
              " '74.png',\n",
              " '75.png',\n",
              " '76.png',\n",
              " '77.png',\n",
              " '78.png',\n",
              " '79.png',\n",
              " '8.png',\n",
              " '80.png',\n",
              " '81.png',\n",
              " '82.png',\n",
              " '83.png',\n",
              " '84.png',\n",
              " '85.png',\n",
              " '86.png',\n",
              " '87.png',\n",
              " '88.png',\n",
              " '89.png',\n",
              " '9.png',\n",
              " '90.png',\n",
              " '91.png',\n",
              " '92.png',\n",
              " '93.png',\n",
              " '94.png',\n",
              " '95.png',\n",
              " '96.png',\n",
              " '97.png',\n",
              " '98.png',\n",
              " '99.png']"
            ]
          },
          "execution_count": 10,
          "metadata": {},
          "output_type": "execute_result"
        }
      ],
      "source": [
        "file_names_updated = [i for i in  os.listdir(LABELS_DIR_PATH) if '_' not in i]\n",
        "file_names_updated.sort()\n",
        "file_names_updated"
      ]
    },
    {
      "cell_type": "code",
      "execution_count": 11,
      "metadata": {
        "id": "BB9pZIu_yeeM"
      },
      "outputs": [],
      "source": [
        "labels_arr = []\n",
        "\n",
        "for i in file_names_updated:\n",
        "    label_file_path = os.path.join(LABELS_DIR_PATH, i)\n",
        "    label = plt.imread(label_file_path)\n",
        "    labels_arr.append(label)\n",
        "\n",
        "labels_arr = np.array(labels_arr)"
      ]
    },
    {
      "cell_type": "code",
      "execution_count": 12,
      "metadata": {
        "colab": {
          "base_uri": "https://localhost:8080/"
        },
        "id": "7NHC16ocyeeN",
        "outputId": "2c27f785-44a7-49b5-bf7e-99c33eebb3bb"
      },
      "outputs": [
        {
          "data": {
            "text/plain": [
              "array([[0., 1., 1., ..., 0., 0., 0.],\n",
              "       [0., 1., 0., ..., 0., 0., 0.],\n",
              "       [0., 0., 0., ..., 0., 0., 0.],\n",
              "       ...,\n",
              "       [0., 0., 0., ..., 0., 0., 0.],\n",
              "       [0., 0., 0., ..., 0., 0., 0.],\n",
              "       [0., 0., 0., ..., 0., 0., 0.]], dtype=float32)"
            ]
          },
          "execution_count": 12,
          "metadata": {},
          "output_type": "execute_result"
        }
      ],
      "source": [
        "label_binary = labels_arr.copy()\n",
        "label_binary[label_binary > 0] = 1\n",
        "label_binary[0]"
      ]
    },
    {
      "cell_type": "code",
      "execution_count": 13,
      "metadata": {
        "id": "q9nuX9TbyeeN"
      },
      "outputs": [],
      "source": [
        "X_train, X_test, y_train, y_test = train_test_split(images_arr, label_binary, test_size = 0.10, random_state = 42)"
      ]
    },
    {
      "cell_type": "code",
      "execution_count": 14,
      "metadata": {
        "colab": {
          "base_uri": "https://localhost:8080/"
        },
        "id": "aCkCjPfDyeeN",
        "outputId": "b52a99ed-a9d1-44c9-fdcf-3ab5e071dcc1"
      },
      "outputs": [
        {
          "data": {
            "text/plain": [
              "((275, 128, 128, 12), (275, 128, 128))"
            ]
          },
          "execution_count": 14,
          "metadata": {},
          "output_type": "execute_result"
        }
      ],
      "source": [
        "X_train.shape, y_train.shape"
      ]
    },
    {
      "cell_type": "code",
      "execution_count": 15,
      "metadata": {
        "colab": {
          "base_uri": "https://localhost:8080/"
        },
        "id": "XuLiu03ayeeN",
        "outputId": "7948210b-869b-4824-fc28-300229180fa4"
      },
      "outputs": [
        {
          "data": {
            "text/plain": [
              "((31, 128, 128, 12), (31, 128, 128))"
            ]
          },
          "execution_count": 15,
          "metadata": {},
          "output_type": "execute_result"
        }
      ],
      "source": [
        "X_test.shape, y_test.shape"
      ]
    },
    {
      "cell_type": "code",
      "execution_count": 16,
      "metadata": {
        "id": "obZ3pM7DyeeN"
      },
      "outputs": [],
      "source": [
        "IMG_HEIGHT = X_train.shape[1]\n",
        "IMG_WIDTH  = X_train.shape[2]\n",
        "IMG_CHANNELS = X_train.shape[3]"
      ]
    },
    {
      "cell_type": "code",
      "execution_count": 17,
      "metadata": {
        "colab": {
          "base_uri": "https://localhost:8080/"
        },
        "id": "6Hc4vK9ryeeN",
        "outputId": "77dba0cf-3554-4900-cd6c-7c34dc0dd120"
      },
      "outputs": [
        {
          "data": {
            "text/plain": [
              "(128, 128, 12)"
            ]
          },
          "execution_count": 17,
          "metadata": {},
          "output_type": "execute_result"
        }
      ],
      "source": [
        "IMG_HEIGHT, IMG_WIDTH, IMG_CHANNELS"
      ]
    },
    {
      "cell_type": "code",
      "execution_count": 18,
      "metadata": {
        "colab": {
          "base_uri": "https://localhost:8080/",
          "height": 456
        },
        "id": "-SmyEBNeyeeN",
        "outputId": "247d256b-e992-4aa5-eb15-f1eb0aa0d368"
      },
      "outputs": [],
      "source": [
        "# import tensorflow as tf\n",
        "# from tensorflow.keras import layers, models\n",
        "# import tensorflow_hub as hub\n",
        "\n",
        "# # Load the DeepLabV3 feature extractor from TensorFlow Hub\n",
        "# base_model = hub.KerasLayer(\"https://tfhub.dev/tensorflow/deeplabv3/1\", trainable=False)\n",
        "\n",
        "# # Define a custom model\n",
        "# def build_custom_deeplabv3(input_shape=(128, 128, 12), num_classes=2):\n",
        "#     inputs = layers.Input(shape=input_shape)\n",
        "\n",
        "#     # Pass through the pre-trained DeepLabV3 base (remove output layers)\n",
        "#     x = base_model(inputs)\n",
        "\n",
        "#     # Add a custom classifier layer for 2 classes (binary or 2-class segmentation)\n",
        "#     x = layers.Conv2D(num_classes, (1, 1), padding='same', activation='softmax')(x)\n",
        "\n",
        "#     # Create the final model\n",
        "#     model = models.Model(inputs=inputs, outputs=x)\n",
        "\n",
        "#     return model\n",
        "\n",
        "# # Build the model with your custom input shape and 2 output classes\n",
        "# model = build_custom_deeplabv3(input_shape=(128, 128, 12), num_classes=2)\n",
        "\n",
        "# # Print the model summary\n",
        "# model.summary()\n"
      ]
    },
    {
      "cell_type": "code",
      "execution_count": 19,
      "metadata": {
        "id": "Xn80TvGiyeeN"
      },
      "outputs": [],
      "source": [
        "# import tensorflow as tf\n",
        "# import tensorflow_hub as hub\n",
        "# import numpy as np\n",
        "# import PIL.Image as Image\n",
        "# import matplotlib.pyplot as plt\n",
        "\n",
        "# # Load the DeepLabV3 model from TensorFlow Hub\n",
        "# model_url = \"https://tfhub.dev/google/faster_rcnn/openimages_v4/inception_resnet_v2/1\"  # Replace with DeepLabV3 URL\n",
        "# model = hub.load(model_url)\n",
        "\n",
        "# # Load and preprocess an image\n",
        "# def preprocess_image(image_path):\n",
        "#     img = Image.open(image_path).resize((513, 513))  # DeepLabV3 typically uses 513x513\n",
        "#     img = np.array(img) / 255.0  # Normalize pixel values\n",
        "#     return img\n",
        "\n",
        "# image_path = \"path_to_your_image.jpg\"  # Provide the path to your image\n",
        "# image = preprocess_image(image_path)\n",
        "\n",
        "# # Add batch dimension\n",
        "# input_image = tf.expand_dims(image, axis=0)\n",
        "\n",
        "# # Run inference\n",
        "# output = model(input_image)\n",
        "# predicted_mask = tf.argmax(output['semantic'], axis=-1)\n",
        "# predicted_mask = predicted_mask[0]  # Remove batch dimension\n",
        "\n",
        "# # Visualize the segmentation\n",
        "# plt.figure(figsize=(10, 10))\n",
        "# plt.imshow(predicted_mask)\n",
        "# plt.axis('off')\n",
        "# plt.show()\n"
      ]
    },
    {
      "cell_type": "code",
      "execution_count": 20,
      "metadata": {
        "id": "5G4wvIbHyeeN"
      },
      "outputs": [],
      "source": [
        "# Create IoU metric\n",
        "iou_metric = MeanIoU(2)\n",
        "# model.compile(optimizer='adam', loss=BinaryCrossentropy(), metrics=[iou_metric, 'accuracy'])\n"
      ]
    },
    {
      "cell_type": "code",
      "execution_count": 38,
      "metadata": {
        "colab": {
          "base_uri": "https://localhost:8080/",
          "height": 248
        },
        "id": "a_0sLpku-DDV",
        "outputId": "a18553c1-602a-4441-9fef-178c69f6b297"
      },
      "outputs": [
        {
          "data": {
            "text/html": [
              "<pre style=\"white-space:pre;overflow-x:auto;line-height:normal;font-family:Menlo,'DejaVu Sans Mono',consolas,'Courier New',monospace\"><span style=\"font-weight: bold\">Model: \"functional_86\"</span>\n",
              "</pre>\n"
            ],
            "text/plain": [
              "\u001b[1mModel: \"functional_86\"\u001b[0m\n"
            ]
          },
          "metadata": {},
          "output_type": "display_data"
        },
        {
          "data": {
            "text/html": [
              "<pre style=\"white-space:pre;overflow-x:auto;line-height:normal;font-family:Menlo,'DejaVu Sans Mono',consolas,'Courier New',monospace\">┏━━━━━━━━━━━━━━━━━━━━━━━━━━━━━━━━━┳━━━━━━━━━━━━━━━━━━━━━━━━┳━━━━━━━━━━━━━━━┓\n",
              "┃<span style=\"font-weight: bold\"> Layer (type)                    </span>┃<span style=\"font-weight: bold\"> Output Shape           </span>┃<span style=\"font-weight: bold\">       Param # </span>┃\n",
              "┡━━━━━━━━━━━━━━━━━━━━━━━━━━━━━━━━━╇━━━━━━━━━━━━━━━━━━━━━━━━╇━━━━━━━━━━━━━━━┩\n",
              "│ input_layer_86 (<span style=\"color: #0087ff; text-decoration-color: #0087ff\">InputLayer</span>)     │ (<span style=\"color: #00d7ff; text-decoration-color: #00d7ff\">None</span>, <span style=\"color: #00af00; text-decoration-color: #00af00\">128</span>, <span style=\"color: #00af00; text-decoration-color: #00af00\">128</span>, <span style=\"color: #00af00; text-decoration-color: #00af00\">12</span>)   │             <span style=\"color: #00af00; text-decoration-color: #00af00\">0</span> │\n",
              "├─────────────────────────────────┼────────────────────────┼───────────────┤\n",
              "│ functional_76 (<span style=\"color: #0087ff; text-decoration-color: #0087ff\">Functional</span>)      │ (<span style=\"color: #00d7ff; text-decoration-color: #00d7ff\">None</span>, <span style=\"color: #00af00; text-decoration-color: #00af00\">128</span>, <span style=\"color: #00af00; text-decoration-color: #00af00\">128</span>, <span style=\"color: #00af00; text-decoration-color: #00af00\">3</span>)    │            <span style=\"color: #00af00; text-decoration-color: #00af00\">39</span> │\n",
              "├─────────────────────────────────┼────────────────────────┼───────────────┤\n",
              "│ deep_lab_v3_plus_7              │ (<span style=\"color: #00d7ff; text-decoration-color: #00d7ff\">None</span>, <span style=\"color: #00af00; text-decoration-color: #00af00\">128</span>, <span style=\"color: #00af00; text-decoration-color: #00af00\">128</span>, <span style=\"color: #00af00; text-decoration-color: #00af00\">1</span>)    │    <span style=\"color: #00af00; text-decoration-color: #00af00\">39,186,368</span> │\n",
              "│ (<span style=\"color: #0087ff; text-decoration-color: #0087ff\">DeepLabV3Plus</span>)                 │                        │               │\n",
              "└─────────────────────────────────┴────────────────────────┴───────────────┘\n",
              "</pre>\n"
            ],
            "text/plain": [
              "┏━━━━━━━━━━━━━━━━━━━━━━━━━━━━━━━━━┳━━━━━━━━━━━━━━━━━━━━━━━━┳━━━━━━━━━━━━━━━┓\n",
              "┃\u001b[1m \u001b[0m\u001b[1mLayer (type)                   \u001b[0m\u001b[1m \u001b[0m┃\u001b[1m \u001b[0m\u001b[1mOutput Shape          \u001b[0m\u001b[1m \u001b[0m┃\u001b[1m \u001b[0m\u001b[1m      Param #\u001b[0m\u001b[1m \u001b[0m┃\n",
              "┡━━━━━━━━━━━━━━━━━━━━━━━━━━━━━━━━━╇━━━━━━━━━━━━━━━━━━━━━━━━╇━━━━━━━━━━━━━━━┩\n",
              "│ input_layer_86 (\u001b[38;5;33mInputLayer\u001b[0m)     │ (\u001b[38;5;45mNone\u001b[0m, \u001b[38;5;34m128\u001b[0m, \u001b[38;5;34m128\u001b[0m, \u001b[38;5;34m12\u001b[0m)   │             \u001b[38;5;34m0\u001b[0m │\n",
              "├─────────────────────────────────┼────────────────────────┼───────────────┤\n",
              "│ functional_76 (\u001b[38;5;33mFunctional\u001b[0m)      │ (\u001b[38;5;45mNone\u001b[0m, \u001b[38;5;34m128\u001b[0m, \u001b[38;5;34m128\u001b[0m, \u001b[38;5;34m3\u001b[0m)    │            \u001b[38;5;34m39\u001b[0m │\n",
              "├─────────────────────────────────┼────────────────────────┼───────────────┤\n",
              "│ deep_lab_v3_plus_7              │ (\u001b[38;5;45mNone\u001b[0m, \u001b[38;5;34m128\u001b[0m, \u001b[38;5;34m128\u001b[0m, \u001b[38;5;34m1\u001b[0m)    │    \u001b[38;5;34m39,186,368\u001b[0m │\n",
              "│ (\u001b[38;5;33mDeepLabV3Plus\u001b[0m)                 │                        │               │\n",
              "└─────────────────────────────────┴────────────────────────┴───────────────┘\n"
            ]
          },
          "metadata": {},
          "output_type": "display_data"
        },
        {
          "data": {
            "text/html": [
              "<pre style=\"white-space:pre;overflow-x:auto;line-height:normal;font-family:Menlo,'DejaVu Sans Mono',consolas,'Courier New',monospace\"><span style=\"font-weight: bold\"> Total params: </span><span style=\"color: #00af00; text-decoration-color: #00af00\">39,186,407</span> (149.48 MB)\n",
              "</pre>\n"
            ],
            "text/plain": [
              "\u001b[1m Total params: \u001b[0m\u001b[38;5;34m39,186,407\u001b[0m (149.48 MB)\n"
            ]
          },
          "metadata": {},
          "output_type": "display_data"
        },
        {
          "data": {
            "text/html": [
              "<pre style=\"white-space:pre;overflow-x:auto;line-height:normal;font-family:Menlo,'DejaVu Sans Mono',consolas,'Courier New',monospace\"><span style=\"font-weight: bold\"> Trainable params: </span><span style=\"color: #00af00; text-decoration-color: #00af00\">91,015</span> (355.53 KB)\n",
              "</pre>\n"
            ],
            "text/plain": [
              "\u001b[1m Trainable params: \u001b[0m\u001b[38;5;34m91,015\u001b[0m (355.53 KB)\n"
            ]
          },
          "metadata": {},
          "output_type": "display_data"
        },
        {
          "data": {
            "text/html": [
              "<pre style=\"white-space:pre;overflow-x:auto;line-height:normal;font-family:Menlo,'DejaVu Sans Mono',consolas,'Courier New',monospace\"><span style=\"font-weight: bold\"> Non-trainable params: </span><span style=\"color: #00af00; text-decoration-color: #00af00\">39,095,392</span> (149.14 MB)\n",
              "</pre>\n"
            ],
            "text/plain": [
              "\u001b[1m Non-trainable params: \u001b[0m\u001b[38;5;34m39,095,392\u001b[0m (149.14 MB)\n"
            ]
          },
          "metadata": {},
          "output_type": "display_data"
        },
        {
          "name": "stdout",
          "output_type": "stream",
          "text": [
            "None\n"
          ]
        }
      ],
      "source": [
        "import tensorflow as tf\n",
        "from tensorflow.keras.layers import Input, Conv2D\n",
        "from tensorflow.keras.applications import ResNet50\n",
        "from tensorflow.keras.models import Model\n",
        "import keras_cv\n",
        "\n",
        "# Define the custom input shape\n",
        "input_shape = (128, 128, 12)\n",
        "\n",
        "# Use a compatible backbone from keras_cv\n",
        "backbone = keras_cv.models.ResNet50V2Backbone.from_preset(\"resnet50_v2_imagenet\")\n",
        "\n",
        "# Create a preprocessing model to adjust the number of channels\n",
        "def create_preprocessing_model(input_shape):\n",
        "    inputs = Input(shape=input_shape)\n",
        "    x = Conv2D(3, (1, 1), padding='same')(inputs)\n",
        "    return Model(inputs=inputs, outputs=x)\n",
        "\n",
        "preprocessing_model = create_preprocessing_model(input_shape)\n",
        "\n",
        "# Initialize the DeepLabV3+ model\n",
        "model = keras_cv.models.segmentation.DeepLabV3Plus(\n",
        "    num_classes=1,\n",
        "    backbone=backbone\n",
        ")\n",
        "for layer in model.layers:\n",
        "    layer.trainable = False\n",
        "    \n",
        "for layer in model.layers[-4:]:\n",
        "    layer.trainable = True\n",
        "\n",
        "# for layer in model.layers[:2]:\n",
        "#     layer.trainable = True\n",
        "# Connect the preprocessing model to the DeepLabV3+ model\n",
        "inputs = Input(shape=input_shape)\n",
        "processed_inputs = preprocessing_model(inputs)\n",
        "outputs = model(processed_inputs)\n",
        "final_model = Model(inputs=inputs, outputs=outputs)\n",
        "\n",
        "# Print model summary\n",
        "print(final_model.summary())"
      ]
    },
    {
      "cell_type": "code",
      "execution_count": 39,
      "metadata": {
        "id": "H44hfTcV-f2N"
      },
      "outputs": [],
      "source": [
        "final_model.compile(optimizer='adam', loss=BinaryCrossentropy(), metrics=[iou_metric, 'accuracy'])"
      ]
    },
    {
      "cell_type": "code",
      "execution_count": 40,
      "metadata": {
        "colab": {
          "base_uri": "https://localhost:8080/"
        },
        "id": "rek6-pfi-pbJ",
        "outputId": "810b3466-7335-49fc-959f-0fe070014217"
      },
      "outputs": [
        {
          "name": "stdout",
          "output_type": "stream",
          "text": [
            "Epoch 1/10\n",
            "\u001b[1m9/9\u001b[0m \u001b[32m━━━━━━━━━━━━━━━━━━━━\u001b[0m\u001b[37m\u001b[0m \u001b[1m77s\u001b[0m 8s/step - accuracy: 0.2628 - loss: 11.7528 - mean_io_u: 0.1314 - val_accuracy: 0.1814 - val_loss: 13.0506 - val_mean_io_u: 0.0907\n",
            "Epoch 2/10\n",
            "\u001b[1m9/9\u001b[0m \u001b[32m━━━━━━━━━━━━━━━━━━━━\u001b[0m\u001b[37m\u001b[0m \u001b[1m73s\u001b[0m 8s/step - accuracy: 0.2502 - loss: 11.9530 - mean_io_u: 0.1251 - val_accuracy: 0.1814 - val_loss: 13.0506 - val_mean_io_u: 0.0907\n",
            "Epoch 3/10\n",
            "\u001b[1m9/9\u001b[0m \u001b[32m━━━━━━━━━━━━━━━━━━━━\u001b[0m\u001b[37m\u001b[0m \u001b[1m68s\u001b[0m 8s/step - accuracy: 0.2359 - loss: 12.1819 - mean_io_u: 0.1179 - val_accuracy: 0.1814 - val_loss: 13.0506 - val_mean_io_u: 0.0907\n",
            "Epoch 4/10\n",
            "\u001b[1m9/9\u001b[0m \u001b[32m━━━━━━━━━━━━━━━━━━━━\u001b[0m\u001b[37m\u001b[0m \u001b[1m76s\u001b[0m 8s/step - accuracy: 0.2752 - loss: 11.5550 - mean_io_u: 0.1376 - val_accuracy: 0.1814 - val_loss: 13.0506 - val_mean_io_u: 0.0907\n",
            "Epoch 5/10\n",
            "\u001b[1m9/9\u001b[0m \u001b[32m━━━━━━━━━━━━━━━━━━━━\u001b[0m\u001b[37m\u001b[0m \u001b[1m71s\u001b[0m 8s/step - accuracy: 0.2685 - loss: 11.6615 - mean_io_u: 0.1343 - val_accuracy: 0.1814 - val_loss: 13.0506 - val_mean_io_u: 0.0907\n",
            "Epoch 6/10\n",
            "\u001b[1m9/9\u001b[0m \u001b[32m━━━━━━━━━━━━━━━━━━━━\u001b[0m\u001b[37m\u001b[0m \u001b[1m64s\u001b[0m 7s/step - accuracy: 0.2732 - loss: 11.5871 - mean_io_u: 0.1366 - val_accuracy: 0.1814 - val_loss: 13.0506 - val_mean_io_u: 0.0907\n",
            "Epoch 7/10\n",
            "\u001b[1m9/9\u001b[0m \u001b[32m━━━━━━━━━━━━━━━━━━━━\u001b[0m\u001b[37m\u001b[0m \u001b[1m69s\u001b[0m 8s/step - accuracy: 0.2741 - loss: 11.5721 - mean_io_u: 0.1371 - val_accuracy: 0.1814 - val_loss: 13.0506 - val_mean_io_u: 0.0907\n",
            "Epoch 8/10\n",
            "\u001b[1m9/9\u001b[0m \u001b[32m━━━━━━━━━━━━━━━━━━━━\u001b[0m\u001b[37m\u001b[0m \u001b[1m77s\u001b[0m 9s/step - accuracy: 0.2653 - loss: 11.7123 - mean_io_u: 0.1327 - val_accuracy: 0.1814 - val_loss: 13.0506 - val_mean_io_u: 0.0907\n",
            "Epoch 9/10\n",
            "\u001b[1m9/9\u001b[0m \u001b[32m━━━━━━━━━━━━━━━━━━━━\u001b[0m\u001b[37m\u001b[0m \u001b[1m78s\u001b[0m 9s/step - accuracy: 0.2436 - loss: 12.0586 - mean_io_u: 0.1218 - val_accuracy: 0.1814 - val_loss: 13.0506 - val_mean_io_u: 0.0907\n",
            "Epoch 10/10\n",
            "\u001b[1m9/9\u001b[0m \u001b[32m━━━━━━━━━━━━━━━━━━━━\u001b[0m\u001b[37m\u001b[0m \u001b[1m80s\u001b[0m 9s/step - accuracy: 0.2737 - loss: 11.5786 - mean_io_u: 0.1369 - val_accuracy: 0.1814 - val_loss: 13.0506 - val_mean_io_u: 0.0907\n"
          ]
        },
        {
          "data": {
            "text/plain": [
              "<keras.src.callbacks.history.History at 0x226af30d690>"
            ]
          },
          "execution_count": 40,
          "metadata": {},
          "output_type": "execute_result"
        }
      ],
      "source": [
        "final_model.fit(X_train, y_train, batch_size=32, epochs=10, validation_data=(X_test, y_test))"
      ]
    },
    {
      "cell_type": "code",
      "execution_count": 41,
      "metadata": {
        "id": "NisAzogP9J74"
      },
      "outputs": [
        {
          "name": "stdout",
          "output_type": "stream",
          "text": [
            "Epoch 1/10\n",
            "\u001b[1m4/4\u001b[0m \u001b[32m━━━━━━━━━━━━━━━━━━━━\u001b[0m\u001b[37m\u001b[0m \u001b[1m88s\u001b[0m 22s/step - accuracy: 0.2629 - loss: 11.7510 - mean_io_u: 0.1315 - val_accuracy: 0.1814 - val_loss: 13.0506 - val_mean_io_u: 0.0907\n",
            "Epoch 2/10\n",
            "\u001b[1m4/4\u001b[0m \u001b[32m━━━━━━━━━━━━━━━━━━━━\u001b[0m\u001b[37m\u001b[0m \u001b[1m76s\u001b[0m 18s/step - accuracy: 0.2844 - loss: 11.4081 - mean_io_u: 0.1422 - val_accuracy: 0.1814 - val_loss: 13.0506 - val_mean_io_u: 0.0907\n",
            "Epoch 3/10\n",
            "\u001b[1m4/4\u001b[0m \u001b[32m━━━━━━━━━━━━━━━━━━━━\u001b[0m\u001b[37m\u001b[0m \u001b[1m74s\u001b[0m 18s/step - accuracy: 0.2611 - loss: 11.7797 - mean_io_u: 0.1306 - val_accuracy: 0.1814 - val_loss: 13.0506 - val_mean_io_u: 0.0907\n",
            "Epoch 4/10\n",
            "\u001b[1m4/4\u001b[0m \u001b[32m━━━━━━━━━━━━━━━━━━━━\u001b[0m\u001b[37m\u001b[0m \u001b[1m74s\u001b[0m 19s/step - accuracy: 0.2643 - loss: 11.7296 - mean_io_u: 0.1321 - val_accuracy: 0.1814 - val_loss: 13.0506 - val_mean_io_u: 0.0907\n",
            "Epoch 5/10\n",
            "\u001b[1m4/4\u001b[0m \u001b[32m━━━━━━━━━━━━━━━━━━━━\u001b[0m\u001b[37m\u001b[0m \u001b[1m81s\u001b[0m 21s/step - accuracy: 0.2555 - loss: 11.8685 - mean_io_u: 0.1278 - val_accuracy: 0.1814 - val_loss: 13.0506 - val_mean_io_u: 0.0907\n",
            "Epoch 6/10\n",
            "\u001b[1m4/4\u001b[0m \u001b[32m━━━━━━━━━━━━━━━━━━━━\u001b[0m\u001b[37m\u001b[0m \u001b[1m78s\u001b[0m 20s/step - accuracy: 0.2715 - loss: 11.6147 - mean_io_u: 0.1357 - val_accuracy: 0.1814 - val_loss: 13.0506 - val_mean_io_u: 0.0907\n",
            "Epoch 7/10\n",
            "\u001b[1m4/4\u001b[0m \u001b[32m━━━━━━━━━━━━━━━━━━━━\u001b[0m\u001b[37m\u001b[0m \u001b[1m77s\u001b[0m 20s/step - accuracy: 0.2822 - loss: 11.4435 - mean_io_u: 0.1411 - val_accuracy: 0.1814 - val_loss: 13.0506 - val_mean_io_u: 0.0907\n",
            "Epoch 8/10\n",
            "\u001b[1m4/4\u001b[0m \u001b[32m━━━━━━━━━━━━━━━━━━━━\u001b[0m\u001b[37m\u001b[0m \u001b[1m76s\u001b[0m 19s/step - accuracy: 0.2535 - loss: 11.9014 - mean_io_u: 0.1267 - val_accuracy: 0.1814 - val_loss: 13.0506 - val_mean_io_u: 0.0907\n",
            "Epoch 9/10\n",
            "\u001b[1m4/4\u001b[0m \u001b[32m━━━━━━━━━━━━━━━━━━━━\u001b[0m\u001b[37m\u001b[0m \u001b[1m81s\u001b[0m 21s/step - accuracy: 0.2680 - loss: 11.6693 - mean_io_u: 0.1340 - val_accuracy: 0.1814 - val_loss: 13.0506 - val_mean_io_u: 0.0907\n",
            "Epoch 10/10\n",
            "\u001b[1m4/4\u001b[0m \u001b[32m━━━━━━━━━━━━━━━━━━━━\u001b[0m\u001b[37m\u001b[0m \u001b[1m76s\u001b[0m 19s/step - accuracy: 0.2638 - loss: 11.7364 - mean_io_u: 0.1319 - val_accuracy: 0.1814 - val_loss: 13.0506 - val_mean_io_u: 0.0907\n"
          ]
        }
      ],
      "source": [
        "history = final_model.fit(X_train, y_train, batch_size=70, epochs=10, validation_data=(X_test, y_test))\n"
      ]
    },
    {
      "cell_type": "code",
      "execution_count": null,
      "metadata": {},
      "outputs": [],
      "source": []
    }
  ],
  "metadata": {
    "colab": {
      "provenance": []
    },
    "kernelspec": {
      "display_name": "DeepLearning",
      "language": "python",
      "name": "python3"
    },
    "language_info": {
      "codemirror_mode": {
        "name": "ipython",
        "version": 3
      },
      "file_extension": ".py",
      "mimetype": "text/x-python",
      "name": "python",
      "nbconvert_exporter": "python",
      "pygments_lexer": "ipython3",
      "version": "3.10.9"
    }
  },
  "nbformat": 4,
  "nbformat_minor": 0
}
